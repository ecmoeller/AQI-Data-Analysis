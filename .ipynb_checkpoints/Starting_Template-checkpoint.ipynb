{
 "cells": [
  {
   "cell_type": "markdown",
   "metadata": {
    "collapsed": true
   },
   "source": [
    "<h2> Assignment 5 Notebook </h2> \n",
    "<body>\n",
    "<p>Full name : Emily Moeller</p>\n",
    "<p>Wisc Id : 9070376034</p>\n",
    "<p>Test Setup details :Anaconda v. 3.6 </p>\n",
    "<p>Jupyter verison : 4.2.1</p>\n",
    "</body>"
   ]
  },
  {
   "cell_type": "code",
   "execution_count": 48,
   "metadata": {
    "collapsed": true
   },
   "outputs": [],
   "source": [
    "import pandas as pd\n",
    "# numpy has a lots of useful math related modules \n",
    "import numpy as np\n",
    "# Helpful function to display intermittent result \n",
    "from IPython.display import display\n"
   ]
  },
  {
   "cell_type": "markdown",
   "metadata": {},
   "source": [
    "<H4>Step 0 : Take a peek at the dataset</H4>"
   ]
  },
  {
   "cell_type": "code",
   "execution_count": 49,
   "metadata": {
    "collapsed": false
   },
   "outputs": [
    {
     "data": {
      "text/html": [
       "<div>\n",
       "<table border=\"1\" class=\"dataframe\">\n",
       "  <thead>\n",
       "    <tr style=\"text-align: right;\">\n",
       "      <th></th>\n",
       "      <th>State Code</th>\n",
       "      <th>County Code</th>\n",
       "      <th>Latitude</th>\n",
       "      <th>Longitude</th>\n",
       "      <th>Date Local</th>\n",
       "      <th>AQI</th>\n",
       "      <th>Address</th>\n",
       "      <th>State Name</th>\n",
       "      <th>County Name</th>\n",
       "      <th>City Name</th>\n",
       "      <th>CBSA Name</th>\n",
       "    </tr>\n",
       "  </thead>\n",
       "  <tbody>\n",
       "    <tr>\n",
       "      <th>0</th>\n",
       "      <td>55</td>\n",
       "      <td>59</td>\n",
       "      <td>42.504722</td>\n",
       "      <td>-87.8093</td>\n",
       "      <td>1997-04-28</td>\n",
       "      <td>82</td>\n",
       "      <td>CHIWAUKEE PRAIRIE, 11838 FIRST COURT</td>\n",
       "      <td>Wisconsin</td>\n",
       "      <td>Kenosha</td>\n",
       "      <td>Pleasant Prairie</td>\n",
       "      <td>Chicago-Naperville-Elgin, IL-IN-WI</td>\n",
       "    </tr>\n",
       "    <tr>\n",
       "      <th>1</th>\n",
       "      <td>55</td>\n",
       "      <td>59</td>\n",
       "      <td>42.504722</td>\n",
       "      <td>-87.8093</td>\n",
       "      <td>1997-05-10</td>\n",
       "      <td>33</td>\n",
       "      <td>CHIWAUKEE PRAIRIE, 11838 FIRST COURT</td>\n",
       "      <td>Wisconsin</td>\n",
       "      <td>Kenosha</td>\n",
       "      <td>Pleasant Prairie</td>\n",
       "      <td>Chicago-Naperville-Elgin, IL-IN-WI</td>\n",
       "    </tr>\n",
       "    <tr>\n",
       "      <th>2</th>\n",
       "      <td>55</td>\n",
       "      <td>59</td>\n",
       "      <td>42.504722</td>\n",
       "      <td>-87.8093</td>\n",
       "      <td>1997-05-16</td>\n",
       "      <td>25</td>\n",
       "      <td>CHIWAUKEE PRAIRIE, 11838 FIRST COURT</td>\n",
       "      <td>Wisconsin</td>\n",
       "      <td>Kenosha</td>\n",
       "      <td>Pleasant Prairie</td>\n",
       "      <td>Chicago-Naperville-Elgin, IL-IN-WI</td>\n",
       "    </tr>\n",
       "    <tr>\n",
       "      <th>3</th>\n",
       "      <td>55</td>\n",
       "      <td>59</td>\n",
       "      <td>42.504722</td>\n",
       "      <td>-87.8093</td>\n",
       "      <td>1997-05-22</td>\n",
       "      <td>25</td>\n",
       "      <td>CHIWAUKEE PRAIRIE, 11838 FIRST COURT</td>\n",
       "      <td>Wisconsin</td>\n",
       "      <td>Kenosha</td>\n",
       "      <td>Pleasant Prairie</td>\n",
       "      <td>Chicago-Naperville-Elgin, IL-IN-WI</td>\n",
       "    </tr>\n",
       "    <tr>\n",
       "      <th>4</th>\n",
       "      <td>55</td>\n",
       "      <td>59</td>\n",
       "      <td>42.504722</td>\n",
       "      <td>-87.8093</td>\n",
       "      <td>1997-05-28</td>\n",
       "      <td>46</td>\n",
       "      <td>CHIWAUKEE PRAIRIE, 11838 FIRST COURT</td>\n",
       "      <td>Wisconsin</td>\n",
       "      <td>Kenosha</td>\n",
       "      <td>Pleasant Prairie</td>\n",
       "      <td>Chicago-Naperville-Elgin, IL-IN-WI</td>\n",
       "    </tr>\n",
       "  </tbody>\n",
       "</table>\n",
       "</div>"
      ],
      "text/plain": [
       "   State Code  County Code   Latitude  Longitude  Date Local  AQI  \\\n",
       "0          55           59  42.504722   -87.8093  1997-04-28   82   \n",
       "1          55           59  42.504722   -87.8093  1997-05-10   33   \n",
       "2          55           59  42.504722   -87.8093  1997-05-16   25   \n",
       "3          55           59  42.504722   -87.8093  1997-05-22   25   \n",
       "4          55           59  42.504722   -87.8093  1997-05-28   46   \n",
       "\n",
       "                                Address State Name County Name  \\\n",
       "0  CHIWAUKEE PRAIRIE, 11838 FIRST COURT  Wisconsin     Kenosha   \n",
       "1  CHIWAUKEE PRAIRIE, 11838 FIRST COURT  Wisconsin     Kenosha   \n",
       "2  CHIWAUKEE PRAIRIE, 11838 FIRST COURT  Wisconsin     Kenosha   \n",
       "3  CHIWAUKEE PRAIRIE, 11838 FIRST COURT  Wisconsin     Kenosha   \n",
       "4  CHIWAUKEE PRAIRIE, 11838 FIRST COURT  Wisconsin     Kenosha   \n",
       "\n",
       "          City Name                           CBSA Name  \n",
       "0  Pleasant Prairie  Chicago-Naperville-Elgin, IL-IN-WI  \n",
       "1  Pleasant Prairie  Chicago-Naperville-Elgin, IL-IN-WI  \n",
       "2  Pleasant Prairie  Chicago-Naperville-Elgin, IL-IN-WI  \n",
       "3  Pleasant Prairie  Chicago-Naperville-Elgin, IL-IN-WI  \n",
       "4  Pleasant Prairie  Chicago-Naperville-Elgin, IL-IN-WI  "
      ]
     },
     "metadata": {},
     "output_type": "display_data"
    }
   ],
   "source": [
    "# Load the data and display only first five rows \n",
    "# NOTE replace the following value with the actual path to the csv file \n",
    "data_file = \"<path_to_the_csv_file>\" # e.g ~/cs564/p5/AQI.csv\"\n",
    "display(pd.read_csv(data_file, nrows=5).head())"
   ]
  },
  {
   "cell_type": "markdown",
   "metadata": {},
   "source": [
    "<H5>Step 1 : Load the dataset</H5>\n"
   ]
  },
  {
   "cell_type": "code",
   "execution_count": 50,
   "metadata": {
    "collapsed": true
   },
   "outputs": [],
   "source": [
    "from sqlalchemy import create_engine\n",
    "import sqlite3\n",
    "# create a database where we'll load the dataset from the csv file \n",
    "db_conn = create_engine('sqlite:///AirQualityIndex.db')"
   ]
  },
  {
   "cell_type": "code",
   "execution_count": null,
   "metadata": {
    "collapsed": false
   },
   "outputs": [],
   "source": [
    "import string\n",
    "# load in a batch of 5000 tuples. Modify this value to your needs\n",
    "chunks = 5000\n",
    "for data in pd.read_csv(data_file, chunksize=chunks,\n",
    " iterator=True, encoding='utf-8'):\n",
    "\n",
    " data = data.rename(columns={col: col.replace('-', ' ') for col in data.columns})\n",
    " data = data.rename(columns={col: col.strip() for col in data.columns})\n",
    " data = data.rename(columns={col: string.capwords(col) for col in data.columns})\n",
    " data = data.rename(columns={col: col.replace(' ', '') for col in data.columns})\n",
    "\n",
    " data.to_sql('data', db_conn, if_exists='append')"
   ]
  },
  {
   "cell_type": "markdown",
   "metadata": {},
   "source": [
    "<H5>Step 2 : Data Exploration</H5>\n",
    "<body>\n",
    "<p> Find the average air quality index for each city recorded during the year 1997 </p>\n",
    "</body>"
   ]
  },
  {
   "cell_type": "code",
   "execution_count": 35,
   "metadata": {
    "collapsed": false
   },
   "outputs": [
    {
     "data": {
      "text/html": [
       "<div>\n",
       "<table border=\"1\" class=\"dataframe\">\n",
       "  <thead>\n",
       "    <tr style=\"text-align: right;\">\n",
       "      <th></th>\n",
       "      <th>avg_aqi</th>\n",
       "      <th>city</th>\n",
       "    </tr>\n",
       "  </thead>\n",
       "  <tbody>\n",
       "    <tr>\n",
       "      <th>0</th>\n",
       "      <td>58.068182</td>\n",
       "      <td>Milwaukee</td>\n",
       "    </tr>\n",
       "    <tr>\n",
       "      <th>1</th>\n",
       "      <td>54.279070</td>\n",
       "      <td>Waukesha</td>\n",
       "    </tr>\n",
       "    <tr>\n",
       "      <th>2</th>\n",
       "      <td>50.731707</td>\n",
       "      <td>Pleasant Prairie</td>\n",
       "    </tr>\n",
       "  </tbody>\n",
       "</table>\n",
       "</div>"
      ],
      "text/plain": [
       "     avg_aqi              city\n",
       "0  58.068182         Milwaukee\n",
       "1  54.279070          Waukesha\n",
       "2  50.731707  Pleasant Prairie"
      ]
     },
     "metadata": {},
     "output_type": "display_data"
    }
   ],
   "source": [
    "avg_air_quality = pd.read_sql_query(\"\"\"SELECT AVG(AQI) as avg_aqi, \n",
    "                             CityName as city FROM data\n",
    "                             WHERE \"DateLocal\" LIKE \"1997-%\" \n",
    "                             GROUP BY city \n",
    "                             ORDER BY avg_aqi DESC\"\"\", db_conn)\n",
    "\n",
    "# Display the result (Note - the result 'avg_air_quality' is an instance of 'pandas DataFrame')\n",
    "display(avg_air_quality)\n"
   ]
  },
  {
   "cell_type": "markdown",
   "metadata": {},
   "source": [
    "<H5>Step 3 : Data Visualization</H5>\n",
    "<body>\n",
    "<p>Visualize the data you received above as plots</p>\n",
    "</body>"
   ]
  },
  {
   "cell_type": "code",
   "execution_count": 44,
   "metadata": {
    "collapsed": false
   },
   "outputs": [
    {
     "data": {
      "image/png": "[encoded data removed]",
      "text/plain": [
       "<matplotlib.figure.Figure at 0x11ce45e10>"
      ]
     },
     "metadata": {},
     "output_type": "display_data"
    }
   ],
   "source": [
    "# Use matplotlib library to plot graph - a simple barchart in this case \n",
    "# We encourage you to explore different and more complex types of chart\n",
    "import matplotlib.pyplot as plt\n",
    "\n",
    "\n",
    "# First we convert the Dataframe object to Python list (that Matplotlib understands)\n",
    "from pandas import DataFrame\n",
    "# this is our 'y-axis' value - obtained by flattening the DataFrame object \n",
    "aqis_list = list(avg_air_quality['avg_aqi'].values.flatten())\n",
    "# This is our x-axis value \n",
    "cities = list(avg_air_quality['city'].values.flatten())\n",
    "\n",
    "# Specify the plot type and formatting \n",
    "plt.title('Air quality index with date')\n",
    "y_pos = np.arange(len(cities))\n",
    "# Type of graph\n",
    "plt.bar(y_pos, aqis_list, align='center', alpha=0.6, width=0.4)\n",
    "# Specify 'ticks' on the x-axis for each item in the list for 'x-axis' values  \n",
    "plt.xticks(y_pos, cities)\n",
    "plt.xlabel('City')\n",
    "plt.ylabel('Average Air quality Index')\n",
    "plt.show()\n",
    "# Save this diagram(by default at the directory from where this application is launched)\n",
    "plt.savefig(\"figA.png\")\n"
   ]
  },
  {
   "cell_type": "markdown",
   "metadata": {},
   "source": [
    "<h5> Step 4 : Optional (recommended) : Build Machine Learning models </h5>"
   ]
  },
  {
   "cell_type": "markdown",
   "metadata": {},
   "source": [
    "<H4>Summary </H4>\n",
    "<body>\n",
    "<p>1. Write a brief summary of your findings here. </p>\n",
    "<p>2. Additionally explore by building a machine learning model using scikit-learn to make predictions and analysis </p>\n",
    "</body>"
   ]
  },
  {
   "cell_type": "markdown",
   "metadata": {},
   "source": [
    "<h5> Finally, take a moment to reflect on what we achieved here - we started with a raw dataset, processed them, built models and ran analytics to finally gain insights from the data :) </h5> "
   ]
  }
 ],
 "metadata": {
  "kernelspec": {
   "display_name": "Python 3",
   "language": "python",
   "name": "python3"
  },
  "language_info": {
   "codemirror_mode": {
    "name": "ipython",
    "version": 3
   },
   "file_extension": ".py",
   "mimetype": "text/x-python",
   "name": "python",
   "nbconvert_exporter": "python",
   "pygments_lexer": "ipython3",
   "version": "3.6.0"
  }
 },
 "nbformat": 4,
 "nbformat_minor": 2
}
