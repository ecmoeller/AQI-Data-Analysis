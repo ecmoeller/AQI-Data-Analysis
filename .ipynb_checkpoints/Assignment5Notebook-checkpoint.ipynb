{
 "cells": [
  {
   "cell_type": "markdown",
   "metadata": {},
   "source": [
    "Assignment 5 Notebook \n",
    "\n",
    "Full name : Emily Moeller\n",
    "\n",
    "Wisc Id : 9070376034\n",
    "\n",
    "Jupyter verison : 4.2.1"
   ]
  },
  {
   "cell_type": "code",
   "execution_count": 1,
   "metadata": {
    "collapsed": true
   },
   "outputs": [],
   "source": [
    "import pandas as pd \n",
    "import numpy as np # numpy has a lots of useful math related modules\n",
    "from IPython.display import display # Helpful function to display intermittent result"
   ]
  },
  {
   "cell_type": "markdown",
   "metadata": {},
   "source": [
    "Step 0: Take a peak at the Data"
   ]
  },
  {
   "cell_type": "code",
   "execution_count": 2,
   "metadata": {
    "collapsed": false
   },
   "outputs": [
    {
     "name": "stdout",
     "output_type": "stream",
     "text": [
      "C:\\Users\\Emily\\CS564p5\\AQI.csv\n"
     ]
    },
    {
     "data": {
      "text/html": [
       "<div>\n",
       "<table border=\"1\" class=\"dataframe\">\n",
       "  <thead>\n",
       "    <tr style=\"text-align: right;\">\n",
       "      <th></th>\n",
       "      <th>State Code</th>\n",
       "      <th>County Code</th>\n",
       "      <th>Latitude</th>\n",
       "      <th>Longitude</th>\n",
       "      <th>Date Local</th>\n",
       "      <th>AQI</th>\n",
       "      <th>Address</th>\n",
       "      <th>State Name</th>\n",
       "      <th>County Name</th>\n",
       "      <th>City Name</th>\n",
       "      <th>CBSA Name</th>\n",
       "    </tr>\n",
       "  </thead>\n",
       "  <tbody>\n",
       "    <tr>\n",
       "      <th>0</th>\n",
       "      <td>55</td>\n",
       "      <td>59</td>\n",
       "      <td>42.504722</td>\n",
       "      <td>-87.8093</td>\n",
       "      <td>1997-04-28</td>\n",
       "      <td>82</td>\n",
       "      <td>CHIWAUKEE PRAIRIE, 11838 FIRST COURT</td>\n",
       "      <td>Wisconsin</td>\n",
       "      <td>Kenosha</td>\n",
       "      <td>Pleasant Prairie</td>\n",
       "      <td>Chicago-Naperville-Elgin, IL-IN-WI</td>\n",
       "    </tr>\n",
       "    <tr>\n",
       "      <th>1</th>\n",
       "      <td>55</td>\n",
       "      <td>59</td>\n",
       "      <td>42.504722</td>\n",
       "      <td>-87.8093</td>\n",
       "      <td>1997-05-10</td>\n",
       "      <td>33</td>\n",
       "      <td>CHIWAUKEE PRAIRIE, 11838 FIRST COURT</td>\n",
       "      <td>Wisconsin</td>\n",
       "      <td>Kenosha</td>\n",
       "      <td>Pleasant Prairie</td>\n",
       "      <td>Chicago-Naperville-Elgin, IL-IN-WI</td>\n",
       "    </tr>\n",
       "    <tr>\n",
       "      <th>2</th>\n",
       "      <td>55</td>\n",
       "      <td>59</td>\n",
       "      <td>42.504722</td>\n",
       "      <td>-87.8093</td>\n",
       "      <td>1997-05-16</td>\n",
       "      <td>25</td>\n",
       "      <td>CHIWAUKEE PRAIRIE, 11838 FIRST COURT</td>\n",
       "      <td>Wisconsin</td>\n",
       "      <td>Kenosha</td>\n",
       "      <td>Pleasant Prairie</td>\n",
       "      <td>Chicago-Naperville-Elgin, IL-IN-WI</td>\n",
       "    </tr>\n",
       "    <tr>\n",
       "      <th>3</th>\n",
       "      <td>55</td>\n",
       "      <td>59</td>\n",
       "      <td>42.504722</td>\n",
       "      <td>-87.8093</td>\n",
       "      <td>1997-05-22</td>\n",
       "      <td>25</td>\n",
       "      <td>CHIWAUKEE PRAIRIE, 11838 FIRST COURT</td>\n",
       "      <td>Wisconsin</td>\n",
       "      <td>Kenosha</td>\n",
       "      <td>Pleasant Prairie</td>\n",
       "      <td>Chicago-Naperville-Elgin, IL-IN-WI</td>\n",
       "    </tr>\n",
       "    <tr>\n",
       "      <th>4</th>\n",
       "      <td>55</td>\n",
       "      <td>59</td>\n",
       "      <td>42.504722</td>\n",
       "      <td>-87.8093</td>\n",
       "      <td>1997-05-28</td>\n",
       "      <td>46</td>\n",
       "      <td>CHIWAUKEE PRAIRIE, 11838 FIRST COURT</td>\n",
       "      <td>Wisconsin</td>\n",
       "      <td>Kenosha</td>\n",
       "      <td>Pleasant Prairie</td>\n",
       "      <td>Chicago-Naperville-Elgin, IL-IN-WI</td>\n",
       "    </tr>\n",
       "  </tbody>\n",
       "</table>\n",
       "</div>"
      ],
      "text/plain": [
       "   State Code  County Code   Latitude  Longitude  Date Local  AQI  \\\n",
       "0          55           59  42.504722   -87.8093  1997-04-28   82   \n",
       "1          55           59  42.504722   -87.8093  1997-05-10   33   \n",
       "2          55           59  42.504722   -87.8093  1997-05-16   25   \n",
       "3          55           59  42.504722   -87.8093  1997-05-22   25   \n",
       "4          55           59  42.504722   -87.8093  1997-05-28   46   \n",
       "\n",
       "                                Address State Name County Name  \\\n",
       "0  CHIWAUKEE PRAIRIE, 11838 FIRST COURT  Wisconsin     Kenosha   \n",
       "1  CHIWAUKEE PRAIRIE, 11838 FIRST COURT  Wisconsin     Kenosha   \n",
       "2  CHIWAUKEE PRAIRIE, 11838 FIRST COURT  Wisconsin     Kenosha   \n",
       "3  CHIWAUKEE PRAIRIE, 11838 FIRST COURT  Wisconsin     Kenosha   \n",
       "4  CHIWAUKEE PRAIRIE, 11838 FIRST COURT  Wisconsin     Kenosha   \n",
       "\n",
       "          City Name                           CBSA Name  \n",
       "0  Pleasant Prairie  Chicago-Naperville-Elgin, IL-IN-WI  \n",
       "1  Pleasant Prairie  Chicago-Naperville-Elgin, IL-IN-WI  \n",
       "2  Pleasant Prairie  Chicago-Naperville-Elgin, IL-IN-WI  \n",
       "3  Pleasant Prairie  Chicago-Naperville-Elgin, IL-IN-WI  \n",
       "4  Pleasant Prairie  Chicago-Naperville-Elgin, IL-IN-WI  "
      ]
     },
     "metadata": {},
     "output_type": "display_data"
    }
   ],
   "source": [
    "import os\n",
    "cwd = os.getcwd()\n",
    "print(cwd + \"\\AQI.csv\")\n",
    "data_file = \"./AQI.csv\" # e.g ~/cs564/p5/AQI.csv\"\n",
    "display(pd.read_csv(data_file, nrows=5).head())"
   ]
  },
  {
   "cell_type": "markdown",
   "metadata": {
    "collapsed": false
   },
   "source": [
    "Step 1 : Load the dataset"
   ]
  },
  {
   "cell_type": "code",
   "execution_count": 3,
   "metadata": {
    "collapsed": true
   },
   "outputs": [],
   "source": [
    "from sqlalchemy import create_engine\n",
    "import sqlite3\n",
    "# create a database where we'll load the dataset from the csv file \n",
    "db_conn = create_engine('sqlite:///AirQualityIndex.db')"
   ]
  },
  {
   "cell_type": "code",
   "execution_count": 4,
   "metadata": {
    "collapsed": true
   },
   "outputs": [],
   "source": [
    "import string\n",
    "# load in a batch of 5000 tuples. Modify this value to your needs\n",
    "chunks = 5000\n",
    "for data in pd.read_csv(data_file, chunksize=chunks,\n",
    " iterator=True, encoding='utf-8'):\n",
    "\n",
    " data = data.rename(columns={col: col.replace('-', ' ') for col in data.columns})\n",
    " data = data.rename(columns={col: col.strip() for col in data.columns})\n",
    " data = data.rename(columns={col: string.capwords(col) for col in data.columns})\n",
    " data = data.rename(columns={col: col.replace(' ', '') for col in data.columns})\n",
    "\n",
    " data.to_sql('data', db_conn, if_exists='append')"
   ]
  },
  {
   "cell_type": "markdown",
   "metadata": {},
   "source": [
    "Step 2 : Data Exploration\n",
    "Find the average air quality index for each city recorded during the year 1997"
   ]
  },
  {
   "cell_type": "markdown",
   "metadata": {},
   "source": [
    "Query #1: "
   ]
  },
  {
   "cell_type": "code",
   "execution_count": 50,
   "metadata": {
    "collapsed": false
   },
   "outputs": [
    {
     "data": {
      "text/html": [
       "<div>\n",
       "<table border=\"1\" class=\"dataframe\">\n",
       "  <thead>\n",
       "    <tr style=\"text-align: right;\">\n",
       "      <th></th>\n",
       "      <th>AQI</th>\n",
       "      <th>Latitude</th>\n",
       "      <th>Longitude</th>\n",
       "      <th>DateLocal</th>\n",
       "      <th>AQILevel</th>\n",
       "      <th>city</th>\n",
       "    </tr>\n",
       "  </thead>\n",
       "  <tbody>\n",
       "    <tr>\n",
       "      <th>0</th>\n",
       "      <td>0</td>\n",
       "      <td>33.331111</td>\n",
       "      <td>-87.003611</td>\n",
       "      <td>1999-06-21</td>\n",
       "      <td>bestAQI</td>\n",
       "      <td>Not in a city</td>\n",
       "    </tr>\n",
       "    <tr>\n",
       "      <th>1</th>\n",
       "      <td>593</td>\n",
       "      <td>38.274083</td>\n",
       "      <td>-91.701611</td>\n",
       "      <td>2001-09-13</td>\n",
       "      <td>worstAQI</td>\n",
       "      <td>Not in a city</td>\n",
       "    </tr>\n",
       "  </tbody>\n",
       "</table>\n",
       "</div>"
      ],
      "text/plain": [
       "   AQI   Latitude  Longitude   DateLocal  AQILevel           city\n",
       "0    0  33.331111 -87.003611  1999-06-21   bestAQI  Not in a city\n",
       "1  593  38.274083 -91.701611  2001-09-13  worstAQI  Not in a city"
      ]
     },
     "metadata": {},
     "output_type": "display_data"
    }
   ],
   "source": [
    "worst_best_Aqi = pd.read_sql_query(\"\"\"SELECT MAX(AQI) as AQI, Latitude, Longitude, DateLocal, 'worstAQI' as AQILevel,\n",
    "                             CityName as city FROM data\n",
    "                             UNION\n",
    "                             SELECT MIN(AQI) as AQI, Latitude, Longitude, DateLocal, 'bestAQI' as AQILevel,\n",
    "                             CityName as city FROM data\"\"\", db_conn)\n",
    "\n",
    "# Display the result (Note - the result 'worstAqi' is an instance of 'pandas DataFrame')\n",
    "display(worst_best_Aqi)"
   ]
  },
  {
   "cell_type": "markdown",
   "metadata": {},
   "source": [
    "Query #2: Not in a city v. in a city"
   ]
  },
  {
   "cell_type": "code",
   "execution_count": 46,
   "metadata": {
    "collapsed": false
   },
   "outputs": [
    {
     "data": {
      "text/html": [
       "<div>\n",
       "<table border=\"1\" class=\"dataframe\">\n",
       "  <thead>\n",
       "    <tr style=\"text-align: right;\">\n",
       "      <th></th>\n",
       "      <th>avg_aqi</th>\n",
       "      <th>Location</th>\n",
       "    </tr>\n",
       "  </thead>\n",
       "  <tbody>\n",
       "    <tr>\n",
       "      <th>0</th>\n",
       "      <td>34.800566</td>\n",
       "      <td>NotInACity</td>\n",
       "    </tr>\n",
       "    <tr>\n",
       "      <th>1</th>\n",
       "      <td>40.960726</td>\n",
       "      <td>InACity</td>\n",
       "    </tr>\n",
       "  </tbody>\n",
       "</table>\n",
       "</div>"
      ],
      "text/plain": [
       "     avg_aqi    Location\n",
       "0  34.800566  NotInACity\n",
       "1  40.960726     InACity"
      ]
     },
     "metadata": {},
     "output_type": "display_data"
    }
   ],
   "source": [
    "rural_v_city = pd.read_sql_query(\"\"\"SELECT AVG(AQI) as avg_aqi, 'NotInACity' as Location\n",
    "                             FROM(SELECT AQI as aqi, CityName as city\n",
    "                             FROM data\n",
    "                             WHERE city = 'Not in a city')\n",
    "                             UNION\n",
    "                             SELECT AVG(AQI) as avg_aqi, 'InACity' as Location\n",
    "                             FROM(SELECT AQI as aqi, CityName as city\n",
    "                             FROM data\n",
    "                             WHERE city != 'Not in a city')\"\"\"\"\", db_conn)\n",
    "\n",
    "display(rural_v_city)\n"
   ]
  },
  {
   "cell_type": "markdown",
   "metadata": {},
   "source": [
    "Query #3:"
   ]
  },
  {
   "cell_type": "markdown",
   "metadata": {
    "collapsed": true
   },
   "source": [
    "Madison v. Milwaukee v. Green Bay"
   ]
  },
  {
   "cell_type": "code",
   "execution_count": 45,
   "metadata": {
    "collapsed": false
   },
   "outputs": [
    {
     "data": {
      "text/html": [
       "<div>\n",
       "<table border=\"1\" class=\"dataframe\">\n",
       "  <thead>\n",
       "    <tr style=\"text-align: right;\">\n",
       "      <th></th>\n",
       "      <th>avg_aqi</th>\n",
       "      <th>City</th>\n",
       "    </tr>\n",
       "  </thead>\n",
       "  <tbody>\n",
       "    <tr>\n",
       "      <th>0</th>\n",
       "      <td>40.203168</td>\n",
       "      <td>Milwaukee</td>\n",
       "    </tr>\n",
       "    <tr>\n",
       "      <th>1</th>\n",
       "      <td>40.225482</td>\n",
       "      <td>Green Bay</td>\n",
       "    </tr>\n",
       "    <tr>\n",
       "      <th>2</th>\n",
       "      <td>41.716856</td>\n",
       "      <td>Madison</td>\n",
       "    </tr>\n",
       "  </tbody>\n",
       "</table>\n",
       "</div>"
      ],
      "text/plain": [
       "     avg_aqi       City\n",
       "0  40.203168  Milwaukee\n",
       "1  40.225482  Green Bay\n",
       "2  41.716856    Madison"
      ]
     },
     "metadata": {},
     "output_type": "display_data"
    }
   ],
   "source": [
    "madison_milwaukee_greenBay = pd.read_sql_query(\"\"\"SELECT AVG(AQI) as avg_aqi, 'Madison' as City\n",
    "                             FROM(SELECT AQI as aqi, CityName as city\n",
    "                             FROM data\n",
    "                             WHERE city = 'Madison')\n",
    "                             UNION\n",
    "                             SELECT AVG(AQI) as avg_aqi, 'Milwaukee' as City\n",
    "                             FROM(SELECT AQI as aqi, CityName as city\n",
    "                             FROM data\n",
    "                             WHERE city != 'Milwaukee')\n",
    "                             UNION\n",
    "                             SELECT AVG(AQI) as avg_aqi, 'Green Bay' as city\n",
    "                             FROM(SELECT AQI as aqi, CityName as city\n",
    "                             FROM data\n",
    "                             WHERE city != 'Green Bay')\"\"\"\"\", db_conn)\n",
    "display(madison_milwaukee_greenBay)"
   ]
  },
  {
   "cell_type": "markdown",
   "metadata": {},
   "source": [
    "Step 3 : Data Visualization\n",
    "Visualize the data you received above as plots"
   ]
  },
  {
   "cell_type": "markdown",
   "metadata": {},
   "source": [
    "Data Visualization for Query 2"
   ]
  },
  {
   "cell_type": "code",
   "execution_count": 34,
   "metadata": {
    "collapsed": false
   },
   "outputs": [
    {
     "data": {
      "image/png": "[encoded data removed]",
      "text/plain": [
       "<matplotlib.figure.Figure at 0x1f8458b5fd0>"
      ]
     },
     "metadata": {},
     "output_type": "display_data"
    }
   ],
   "source": [
    "# Use matplotlib library to plot graph - a simple barchart in this case \n",
    "# We encourage you to explore different and more complex types of chart\n",
    "import matplotlib.pyplot as plt\n",
    "\n",
    "\n",
    "# First we convert the Dataframe object to Python list (that Matplotlib understands)\n",
    "from pandas import DataFrame\n",
    "# this is our 'y-axis' value - obtained by flattening the DataFrame object \n",
    "aqis_list = list(rural_v_city['avg_aqi'].values.flatten())\n",
    "# This is our x-axis value \n",
    "location = list(rural_v_city['Location'].values.flatten())\n",
    "\n",
    "# Specify the plot type and formatting \n",
    "plt.title('Average AQI in Rural areas versus in Cities')\n",
    "y_pos = np.arange(len(location))\n",
    "# Type of graph\n",
    "plt.bar(y_pos, aqis_list, align='center', alpha=0.6, width=0.4)\n",
    "# Specify 'ticks' on the x-axis for each item in the list for 'x-axis' values  \n",
    "plt.xticks(y_pos, location)\n",
    "plt.xlabel('City')\n",
    "plt.ylabel('Average Air quality Index')\n",
    "plt.show()\n",
    "# Save this diagram(by default at the directory from where this application is launched)\n",
    "plt.savefig(\"Rural_V_City.png\")"
   ]
  },
  {
   "cell_type": "markdown",
   "metadata": {
    "collapsed": true
   },
   "source": [
    "                \n",
    "Summary \n",
    "1. Write a brief summary of your findings here.\n",
    "\n",
    "Query 1: The best AQI ever recorded was in Alabama in 1999 and the worst AQI recorded was in Missouri in 2001. Both the highest and lowest AQI are not located in cities.\n",
    "\n",
    "Query 2: The average AQI in Cities is higher than in rural areas, but it is only a difference of 6.16 AQI values.\n",
    "\n",
    "Query 3: The average AQIs in the three largest cities in Wisconsin are very similar despite the fact that Milwaukee is more than double the size of Madison and Madison is more than double the size of Green Bay. In fact, Madison had the highest AQI score of the three cities, but only by 1.49 AQI. In addition, Green Bay even had a higher average AQI score than Milwaukee. \n"
   ]
  }
 ],
 "metadata": {
  "kernelspec": {
   "display_name": "Python 3",
   "language": "python",
   "name": "python3"
  },
  "language_info": {
   "codemirror_mode": {
    "name": "ipython",
    "version": 3
   },
   "file_extension": ".py",
   "mimetype": "text/x-python",
   "name": "python",
   "nbconvert_exporter": "python",
   "pygments_lexer": "ipython3",
   "version": "3.6.0"
  }
 },
 "nbformat": 4,
 "nbformat_minor": 2
}
